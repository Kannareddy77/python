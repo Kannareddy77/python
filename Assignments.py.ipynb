{
 "cells": [
  {
   "cell_type": "code",
   "execution_count": 1,
   "metadata": {},
   "outputs": [],
   "source": [
    "s= 'sudhanshu'\n",
    "l= [4,5,6,7,88,98,9,0,0,0,100]"
   ]
  },
  {
   "cell_type": "code",
   "execution_count": 6,
   "metadata": {},
   "outputs": [
    {
     "data": {
      "text/plain": [
       "4"
      ]
     },
     "execution_count": 6,
     "metadata": {},
     "output_type": "execute_result"
    }
   ],
   "source": [
    "l[0]"
   ]
  },
  {
   "cell_type": "code",
   "execution_count": 7,
   "metadata": {},
   "outputs": [
    {
     "data": {
      "text/plain": [
       "88"
      ]
     },
     "execution_count": 7,
     "metadata": {},
     "output_type": "execute_result"
    }
   ],
   "source": [
    "l[4]"
   ]
  },
  {
   "cell_type": "code",
   "execution_count": 8,
   "metadata": {},
   "outputs": [
    {
     "data": {
      "text/plain": [
       "0"
      ]
     },
     "execution_count": 8,
     "metadata": {},
     "output_type": "execute_result"
    }
   ],
   "source": [
    "l[-1]"
   ]
  },
  {
   "cell_type": "code",
   "execution_count": 9,
   "metadata": {},
   "outputs": [
    {
     "data": {
      "text/plain": [
       "[4, 5, 6, 7, 88, 98, 9, 0, 0, 0]"
      ]
     },
     "execution_count": 9,
     "metadata": {},
     "output_type": "execute_result"
    }
   ],
   "source": [
    "l"
   ]
  },
  {
   "cell_type": "code",
   "execution_count": 10,
   "metadata": {},
   "outputs": [
    {
     "data": {
      "text/plain": [
       "[0, 0, 0, 9, 98, 88, 7, 6, 5, 4]"
      ]
     },
     "execution_count": 10,
     "metadata": {},
     "output_type": "execute_result"
    }
   ],
   "source": [
    "l[::-1]"
   ]
  },
  {
   "cell_type": "code",
   "execution_count": 11,
   "metadata": {},
   "outputs": [
    {
     "data": {
      "text/plain": [
       "[4, 6, 88, 9, 0]"
      ]
     },
     "execution_count": 11,
     "metadata": {},
     "output_type": "execute_result"
    }
   ],
   "source": [
    "l[::2]"
   ]
  },
  {
   "cell_type": "code",
   "execution_count": 12,
   "metadata": {},
   "outputs": [
    {
     "data": {
      "text/plain": [
       "[5, 7, 98, 0, 0]"
      ]
     },
     "execution_count": 12,
     "metadata": {},
     "output_type": "execute_result"
    }
   ],
   "source": [
    "l[1::2]"
   ]
  },
  {
   "cell_type": "code",
   "execution_count": 13,
   "metadata": {},
   "outputs": [
    {
     "data": {
      "text/plain": [
       "[4, 5, 6, 7, 88, 98, 9, 0, 0, 0]"
      ]
     },
     "execution_count": 13,
     "metadata": {},
     "output_type": "execute_result"
    }
   ],
   "source": [
    "l"
   ]
  },
  {
   "cell_type": "code",
   "execution_count": 16,
   "metadata": {},
   "outputs": [],
   "source": [
    "l[2]= 'akshay'\n",
    "l[4]= 'reddy'"
   ]
  },
  {
   "cell_type": "code",
   "execution_count": 17,
   "metadata": {},
   "outputs": [
    {
     "data": {
      "text/plain": [
       "[4, 5, 'akshay', 7, 'reddy', 98, 9, 0, 0, 0]"
      ]
     },
     "execution_count": 17,
     "metadata": {},
     "output_type": "execute_result"
    }
   ],
   "source": [
    "l"
   ]
  },
  {
   "cell_type": "code",
   "execution_count": 18,
   "metadata": {},
   "outputs": [
    {
     "data": {
      "text/plain": [
       "[0, 0, 0]"
      ]
     },
     "execution_count": 18,
     "metadata": {},
     "output_type": "execute_result"
    }
   ],
   "source": [
    "l[7:]"
   ]
  },
  {
   "cell_type": "code",
   "execution_count": 19,
   "metadata": {},
   "outputs": [],
   "source": [
    "l[5]= \"\""
   ]
  },
  {
   "cell_type": "code",
   "execution_count": 20,
   "metadata": {},
   "outputs": [
    {
     "data": {
      "text/plain": [
       "[4, 5, 'akshay', 7, 'reddy', '', 9, 0, 0, 0]"
      ]
     },
     "execution_count": 20,
     "metadata": {},
     "output_type": "execute_result"
    }
   ],
   "source": [
    "l"
   ]
  },
  {
   "cell_type": "code",
   "execution_count": 22,
   "metadata": {},
   "outputs": [
    {
     "data": {
      "text/plain": [
       "'akshay reddy'"
      ]
     },
     "execution_count": 22,
     "metadata": {},
     "output_type": "execute_result"
    }
   ],
   "source": [
    "l[2]+\" \"+ l[4]"
   ]
  },
  {
   "cell_type": "code",
   "execution_count": 23,
   "metadata": {},
   "outputs": [
    {
     "data": {
      "text/plain": [
       "[5, 7, '', 0, 0]"
      ]
     },
     "execution_count": 23,
     "metadata": {},
     "output_type": "execute_result"
    }
   ],
   "source": [
    "l[1::2]"
   ]
  },
  {
   "cell_type": "code",
   "execution_count": 24,
   "metadata": {},
   "outputs": [
    {
     "data": {
      "text/plain": [
       "[4, 5, 'akshay', 7, 'reddy']"
      ]
     },
     "execution_count": 24,
     "metadata": {},
     "output_type": "execute_result"
    }
   ],
   "source": [
    "l[0:5]"
   ]
  },
  {
   "cell_type": "code",
   "execution_count": 25,
   "metadata": {},
   "outputs": [
    {
     "data": {
      "text/plain": [
       "['', 9, 0, 0, 0]"
      ]
     },
     "execution_count": 25,
     "metadata": {},
     "output_type": "execute_result"
    }
   ],
   "source": [
    "l[5:]"
   ]
  },
  {
   "cell_type": "code",
   "execution_count": 27,
   "metadata": {},
   "outputs": [],
   "source": [
    "l1=[0,1,2,3,45]"
   ]
  },
  {
   "cell_type": "code",
   "execution_count": 28,
   "metadata": {},
   "outputs": [],
   "source": [
    "l2=[1,2,3,4,5]"
   ]
  },
  {
   "cell_type": "code",
   "execution_count": 29,
   "metadata": {},
   "outputs": [
    {
     "data": {
      "text/plain": [
       "[0, 1, 2, 3, 45, 1, 2, 3, 4, 5]"
      ]
     },
     "execution_count": 29,
     "metadata": {},
     "output_type": "execute_result"
    }
   ],
   "source": [
    "l1+l2"
   ]
  },
  {
   "cell_type": "code",
   "execution_count": 30,
   "metadata": {},
   "outputs": [
    {
     "data": {
      "text/plain": [
       "[4, 5, 'akshay', 7, 'reddy', '', 9, 0, 0, 0]"
      ]
     },
     "execution_count": 30,
     "metadata": {},
     "output_type": "execute_result"
    }
   ],
   "source": [
    "l"
   ]
  },
  {
   "cell_type": "code",
   "execution_count": 32,
   "metadata": {},
   "outputs": [],
   "source": [
    "l[5]=l1"
   ]
  },
  {
   "cell_type": "code",
   "execution_count": 33,
   "metadata": {},
   "outputs": [
    {
     "data": {
      "text/plain": [
       "[4, 5, 'akshay', 7, 'reddy', [0, 1, 2, 3, 45], 9, 0, 0, 0]"
      ]
     },
     "execution_count": 33,
     "metadata": {},
     "output_type": "execute_result"
    }
   ],
   "source": [
    "l"
   ]
  },
  {
   "cell_type": "code",
   "execution_count": 34,
   "metadata": {},
   "outputs": [],
   "source": [
    "t=(10,20,30,40)"
   ]
  },
  {
   "cell_type": "code",
   "execution_count": 35,
   "metadata": {},
   "outputs": [
    {
     "data": {
      "text/plain": [
       "20"
      ]
     },
     "execution_count": 35,
     "metadata": {},
     "output_type": "execute_result"
    }
   ],
   "source": [
    "t[1]"
   ]
  },
  {
   "cell_type": "code",
   "execution_count": 36,
   "metadata": {},
   "outputs": [],
   "source": [
    "t=(5)"
   ]
  },
  {
   "cell_type": "code",
   "execution_count": 37,
   "metadata": {},
   "outputs": [
    {
     "data": {
      "text/plain": [
       "int"
      ]
     },
     "execution_count": 37,
     "metadata": {},
     "output_type": "execute_result"
    }
   ],
   "source": [
    "type(t)"
   ]
  },
  {
   "cell_type": "code",
   "execution_count": 38,
   "metadata": {},
   "outputs": [],
   "source": [
    "t=(1,2,3,4,5,6)"
   ]
  },
  {
   "cell_type": "code",
   "execution_count": 39,
   "metadata": {},
   "outputs": [
    {
     "data": {
      "text/plain": [
       "(1, 2, 3)"
      ]
     },
     "execution_count": 39,
     "metadata": {},
     "output_type": "execute_result"
    }
   ],
   "source": [
    "t[0:3]"
   ]
  },
  {
   "cell_type": "code",
   "execution_count": 40,
   "metadata": {},
   "outputs": [],
   "source": [
    "t=(1,2)"
   ]
  },
  {
   "cell_type": "code",
   "execution_count": 41,
   "metadata": {},
   "outputs": [],
   "source": [
    "t1=(3,4)"
   ]
  },
  {
   "cell_type": "code",
   "execution_count": 42,
   "metadata": {},
   "outputs": [],
   "source": [
    "t2=t+t1"
   ]
  },
  {
   "cell_type": "code",
   "execution_count": 43,
   "metadata": {},
   "outputs": [
    {
     "data": {
      "text/plain": [
       "(1, 2, 3, 4)"
      ]
     },
     "execution_count": 43,
     "metadata": {},
     "output_type": "execute_result"
    }
   ],
   "source": [
    "t2"
   ]
  },
  {
   "cell_type": "code",
   "execution_count": 44,
   "metadata": {},
   "outputs": [],
   "source": [
    "t=(10,20,30,50,40)"
   ]
  },
  {
   "cell_type": "code",
   "execution_count": 45,
   "metadata": {},
   "outputs": [
    {
     "data": {
      "text/plain": [
       "3"
      ]
     },
     "execution_count": 45,
     "metadata": {},
     "output_type": "execute_result"
    }
   ],
   "source": [
    "t.index(50)"
   ]
  },
  {
   "cell_type": "code",
   "execution_count": 46,
   "metadata": {},
   "outputs": [],
   "source": [
    "t=(10,20,10,40,10)"
   ]
  },
  {
   "cell_type": "code",
   "execution_count": 47,
   "metadata": {},
   "outputs": [
    {
     "data": {
      "text/plain": [
       "3"
      ]
     },
     "execution_count": 47,
     "metadata": {},
     "output_type": "execute_result"
    }
   ],
   "source": [
    "t.count(10)"
   ]
  },
  {
   "cell_type": "code",
   "execution_count": 48,
   "metadata": {},
   "outputs": [],
   "source": [
    "t=(15,25,35)"
   ]
  },
  {
   "cell_type": "code",
   "execution_count": 49,
   "metadata": {},
   "outputs": [
    {
     "data": {
      "text/plain": [
       "[15, 25, 35]"
      ]
     },
     "execution_count": 49,
     "metadata": {},
     "output_type": "execute_result"
    }
   ],
   "source": [
    "list(t)"
   ]
  },
  {
   "cell_type": "code",
   "execution_count": 50,
   "metadata": {},
   "outputs": [],
   "source": [
    "t=(5,1,3,2,4)"
   ]
  },
  {
   "cell_type": "code",
   "execution_count": 55,
   "metadata": {},
   "outputs": [],
   "source": [
    "t1=list(t)"
   ]
  },
  {
   "cell_type": "code",
   "execution_count": 56,
   "metadata": {},
   "outputs": [
    {
     "data": {
      "text/plain": [
       "[5, 1, 3, 2, 4]"
      ]
     },
     "execution_count": 56,
     "metadata": {},
     "output_type": "execute_result"
    }
   ],
   "source": [
    "t1"
   ]
  },
  {
   "cell_type": "code",
   "execution_count": 57,
   "metadata": {},
   "outputs": [],
   "source": [
    "t1.sort()"
   ]
  },
  {
   "cell_type": "code",
   "execution_count": 58,
   "metadata": {},
   "outputs": [],
   "source": [
    "t=(15,25,35)"
   ]
  },
  {
   "cell_type": "code",
   "execution_count": 60,
   "metadata": {},
   "outputs": [],
   "source": [
    "t1=list(t)"
   ]
  },
  {
   "cell_type": "code",
   "execution_count": 61,
   "metadata": {},
   "outputs": [
    {
     "data": {
      "text/plain": [
       "[15, 25, 35]"
      ]
     },
     "execution_count": 61,
     "metadata": {},
     "output_type": "execute_result"
    }
   ],
   "source": [
    "t1"
   ]
  },
  {
   "cell_type": "code",
   "execution_count": 62,
   "metadata": {},
   "outputs": [],
   "source": [
    "t=(1,2)"
   ]
  },
  {
   "cell_type": "code",
   "execution_count": 63,
   "metadata": {},
   "outputs": [],
   "source": [
    "t1= t + t + t"
   ]
  },
  {
   "cell_type": "code",
   "execution_count": 64,
   "metadata": {},
   "outputs": [
    {
     "data": {
      "text/plain": [
       "(1, 2, 1, 2, 1, 2)"
      ]
     },
     "execution_count": 64,
     "metadata": {},
     "output_type": "execute_result"
    }
   ],
   "source": [
    "t1"
   ]
  },
  {
   "cell_type": "code",
   "execution_count": 67,
   "metadata": {},
   "outputs": [],
   "source": [
    "s= 'I am learning python'"
   ]
  },
  {
   "cell_type": "code",
   "execution_count": 68,
   "metadata": {},
   "outputs": [
    {
     "data": {
      "text/plain": [
       "14"
      ]
     },
     "execution_count": 68,
     "metadata": {},
     "output_type": "execute_result"
    }
   ],
   "source": [
    "s.index('python')"
   ]
  },
  {
   "cell_type": "code",
   "execution_count": 69,
   "metadata": {},
   "outputs": [],
   "source": [
    "s=\"hello world\""
   ]
  },
  {
   "cell_type": "code",
   "execution_count": 71,
   "metadata": {},
   "outputs": [
    {
     "data": {
      "text/plain": [
       "'HELLO WORLD'"
      ]
     },
     "execution_count": 71,
     "metadata": {},
     "output_type": "execute_result"
    }
   ],
   "source": [
    "s.upper()"
   ]
  },
  {
   "cell_type": "code",
   "execution_count": 72,
   "metadata": {},
   "outputs": [],
   "source": [
    "s= \"the cat sat on the cat mat\""
   ]
  },
  {
   "cell_type": "code",
   "execution_count": 80,
   "metadata": {},
   "outputs": [
    {
     "data": {
      "text/plain": [
       "'the dog sat on the dog mat'"
      ]
     },
     "execution_count": 80,
     "metadata": {},
     "output_type": "execute_result"
    }
   ],
   "source": [
    "s.replace('cat', 'dog')"
   ]
  },
  {
   "cell_type": "code",
   "execution_count": 81,
   "metadata": {},
   "outputs": [],
   "source": [
    "s='banana'"
   ]
  },
  {
   "cell_type": "code",
   "execution_count": 83,
   "metadata": {},
   "outputs": [
    {
     "data": {
      "text/plain": [
       "3"
      ]
     },
     "execution_count": 83,
     "metadata": {},
     "output_type": "execute_result"
    }
   ],
   "source": [
    "s.count(\"a\")"
   ]
  },
  {
   "cell_type": "code",
   "execution_count": 84,
   "metadata": {},
   "outputs": [],
   "source": [
    "s=\"Hello World\""
   ]
  },
  {
   "cell_type": "code",
   "execution_count": 85,
   "metadata": {},
   "outputs": [
    {
     "data": {
      "text/plain": [
       "'World'"
      ]
     },
     "execution_count": 85,
     "metadata": {},
     "output_type": "execute_result"
    }
   ],
   "source": [
    "s[6:]"
   ]
  },
  {
   "cell_type": "code",
   "execution_count": 86,
   "metadata": {},
   "outputs": [
    {
     "data": {
      "text/plain": [
       "'dlroW olleH'"
      ]
     },
     "execution_count": 86,
     "metadata": {},
     "output_type": "execute_result"
    }
   ],
   "source": [
    "s[::-1]"
   ]
  },
  {
   "cell_type": "code",
   "execution_count": 87,
   "metadata": {},
   "outputs": [],
   "source": [
    "s=\" Hello World \""
   ]
  },
  {
   "cell_type": "code",
   "execution_count": 88,
   "metadata": {},
   "outputs": [
    {
     "data": {
      "text/plain": [
       "'Hello World'"
      ]
     },
     "execution_count": 88,
     "metadata": {},
     "output_type": "execute_result"
    }
   ],
   "source": [
    "s.strip()"
   ]
  },
  {
   "cell_type": "code",
   "execution_count": 89,
   "metadata": {},
   "outputs": [],
   "source": [
    "s=\"abc123\""
   ]
  },
  {
   "cell_type": "code",
   "execution_count": 91,
   "metadata": {},
   "outputs": [
    {
     "data": {
      "text/plain": [
       "False"
      ]
     },
     "execution_count": 91,
     "metadata": {},
     "output_type": "execute_result"
    }
   ],
   "source": [
    "s.isnumeric()"
   ]
  },
  {
   "cell_type": "code",
   "execution_count": 112,
   "metadata": {},
   "outputs": [],
   "source": [
    "s=\"apple,banana,cherry\""
   ]
  },
  {
   "cell_type": "code",
   "execution_count": 113,
   "metadata": {},
   "outputs": [
    {
     "data": {
      "text/plain": [
       "['apple,banana,cherry']"
      ]
     },
     "execution_count": 113,
     "metadata": {},
     "output_type": "execute_result"
    }
   ],
   "source": [
    "s.split()"
   ]
  },
  {
   "cell_type": "code",
   "execution_count": 124,
   "metadata": {},
   "outputs": [],
   "source": [
    "l=[1,2,3,4]"
   ]
  },
  {
   "cell_type": "code",
   "execution_count": 125,
   "metadata": {},
   "outputs": [],
   "source": [
    "l.append(5)"
   ]
  },
  {
   "cell_type": "code",
   "execution_count": 126,
   "metadata": {},
   "outputs": [
    {
     "data": {
      "text/plain": [
       "[1, 2, 3, 4, 5]"
      ]
     },
     "execution_count": 126,
     "metadata": {},
     "output_type": "execute_result"
    }
   ],
   "source": [
    "l"
   ]
  },
  {
   "cell_type": "code",
   "execution_count": 127,
   "metadata": {},
   "outputs": [],
   "source": [
    "l=[\"apple\",'banana','cherry']"
   ]
  },
  {
   "cell_type": "code",
   "execution_count": 128,
   "metadata": {},
   "outputs": [],
   "source": [
    "l.remove('banana')"
   ]
  },
  {
   "cell_type": "code",
   "execution_count": 129,
   "metadata": {},
   "outputs": [
    {
     "data": {
      "text/plain": [
       "['apple', 'cherry']"
      ]
     },
     "execution_count": 129,
     "metadata": {},
     "output_type": "execute_result"
    }
   ],
   "source": [
    "l"
   ]
  },
  {
   "cell_type": "code",
   "execution_count": 130,
   "metadata": {},
   "outputs": [],
   "source": [
    "l.insert(1,'orange')"
   ]
  },
  {
   "cell_type": "code",
   "execution_count": 131,
   "metadata": {},
   "outputs": [
    {
     "data": {
      "text/plain": [
       "['apple', 'orange', 'cherry']"
      ]
     },
     "execution_count": 131,
     "metadata": {},
     "output_type": "execute_result"
    }
   ],
   "source": [
    "l"
   ]
  },
  {
   "cell_type": "code",
   "execution_count": 132,
   "metadata": {},
   "outputs": [],
   "source": [
    "l=[1,2,3,4,5]"
   ]
  },
  {
   "cell_type": "code",
   "execution_count": 133,
   "metadata": {},
   "outputs": [
    {
     "data": {
      "text/plain": [
       "2"
      ]
     },
     "execution_count": 133,
     "metadata": {},
     "output_type": "execute_result"
    }
   ],
   "source": [
    "l.index(3)"
   ]
  },
  {
   "cell_type": "code",
   "execution_count": 134,
   "metadata": {},
   "outputs": [],
   "source": [
    "l=[1,2,3,4]"
   ]
  },
  {
   "cell_type": "code",
   "execution_count": 135,
   "metadata": {},
   "outputs": [],
   "source": [
    "l.reverse()"
   ]
  },
  {
   "cell_type": "code",
   "execution_count": 136,
   "metadata": {},
   "outputs": [
    {
     "data": {
      "text/plain": [
       "[4, 3, 2, 1]"
      ]
     },
     "execution_count": 136,
     "metadata": {},
     "output_type": "execute_result"
    }
   ],
   "source": [
    "l"
   ]
  },
  {
   "cell_type": "code",
   "execution_count": 137,
   "metadata": {},
   "outputs": [],
   "source": [
    "l=[10,20,30,40,50]"
   ]
  },
  {
   "cell_type": "code",
   "execution_count": 138,
   "metadata": {},
   "outputs": [
    {
     "data": {
      "text/plain": [
       "[10, 20, 30]"
      ]
     },
     "execution_count": 138,
     "metadata": {},
     "output_type": "execute_result"
    }
   ],
   "source": [
    "l[0:3]"
   ]
  },
  {
   "cell_type": "code",
   "execution_count": 139,
   "metadata": {},
   "outputs": [],
   "source": [
    "l=[5,2,9,1,5]"
   ]
  },
  {
   "cell_type": "code",
   "execution_count": 140,
   "metadata": {},
   "outputs": [],
   "source": [
    "l.sort()"
   ]
  },
  {
   "cell_type": "code",
   "execution_count": 141,
   "metadata": {},
   "outputs": [
    {
     "data": {
      "text/plain": [
       "[1, 2, 5, 5, 9]"
      ]
     },
     "execution_count": 141,
     "metadata": {},
     "output_type": "execute_result"
    }
   ],
   "source": [
    "l"
   ]
  },
  {
   "cell_type": "code",
   "execution_count": 142,
   "metadata": {},
   "outputs": [],
   "source": [
    "l= [5,1,5,2,5,3]"
   ]
  },
  {
   "cell_type": "code",
   "execution_count": 143,
   "metadata": {},
   "outputs": [
    {
     "data": {
      "text/plain": [
       "3"
      ]
     },
     "execution_count": 143,
     "metadata": {},
     "output_type": "execute_result"
    }
   ],
   "source": [
    "l.count(5)"
   ]
  },
  {
   "cell_type": "code",
   "execution_count": 144,
   "metadata": {},
   "outputs": [],
   "source": [
    "l=[1,2]"
   ]
  },
  {
   "cell_type": "code",
   "execution_count": 145,
   "metadata": {},
   "outputs": [],
   "source": [
    "l1=[3,4]"
   ]
  },
  {
   "cell_type": "code",
   "execution_count": 146,
   "metadata": {},
   "outputs": [
    {
     "data": {
      "text/plain": [
       "[1, 2, 3, 4]"
      ]
     },
     "execution_count": 146,
     "metadata": {},
     "output_type": "execute_result"
    }
   ],
   "source": [
    "l+l1"
   ]
  },
  {
   "cell_type": "code",
   "execution_count": 147,
   "metadata": {},
   "outputs": [],
   "source": [
    "l=[\"apple\", \"banana\", 'cherry']"
   ]
  },
  {
   "cell_type": "code",
   "execution_count": 148,
   "metadata": {},
   "outputs": [
    {
     "data": {
      "text/plain": [
       "0"
      ]
     },
     "execution_count": 148,
     "metadata": {},
     "output_type": "execute_result"
    }
   ],
   "source": [
    "l.count('kiwi')"
   ]
  },
  {
   "cell_type": "code",
   "execution_count": 156,
   "metadata": {},
   "outputs": [],
   "source": [
    "d= {\"name\": \"akshay\"}"
   ]
  },
  {
   "cell_type": "code",
   "execution_count": 157,
   "metadata": {},
   "outputs": [],
   "source": [
    "d.update({'age':25})"
   ]
  },
  {
   "cell_type": "code",
   "execution_count": 158,
   "metadata": {},
   "outputs": [
    {
     "data": {
      "text/plain": [
       "{'name': 'akshay', 'age': 25}"
      ]
     },
     "execution_count": 158,
     "metadata": {},
     "output_type": "execute_result"
    }
   ],
   "source": [
    "d"
   ]
  },
  {
   "cell_type": "code",
   "execution_count": 159,
   "metadata": {},
   "outputs": [],
   "source": [
    "d['name']= 'karthik'"
   ]
  },
  {
   "cell_type": "code",
   "execution_count": 160,
   "metadata": {},
   "outputs": [
    {
     "data": {
      "text/plain": [
       "{'name': 'karthik', 'age': 25}"
      ]
     },
     "execution_count": 160,
     "metadata": {},
     "output_type": "execute_result"
    }
   ],
   "source": [
    "d"
   ]
  },
  {
   "cell_type": "code",
   "execution_count": 161,
   "metadata": {},
   "outputs": [
    {
     "data": {
      "text/plain": [
       "25"
      ]
     },
     "execution_count": 161,
     "metadata": {},
     "output_type": "execute_result"
    }
   ],
   "source": [
    "d.pop('age')"
   ]
  },
  {
   "cell_type": "code",
   "execution_count": 162,
   "metadata": {},
   "outputs": [
    {
     "data": {
      "text/plain": [
       "{'name': 'karthik'}"
      ]
     },
     "execution_count": 162,
     "metadata": {},
     "output_type": "execute_result"
    }
   ],
   "source": [
    "d"
   ]
  },
  {
   "cell_type": "code",
   "execution_count": 165,
   "metadata": {},
   "outputs": [],
   "source": [
    "d={'name': 'akshay', 'age': 25, 'city': 'new york'}"
   ]
  },
  {
   "cell_type": "code",
   "execution_count": 166,
   "metadata": {},
   "outputs": [
    {
     "data": {
      "text/plain": [
       "dict_keys(['name', 'age', 'city'])"
      ]
     },
     "execution_count": 166,
     "metadata": {},
     "output_type": "execute_result"
    }
   ],
   "source": [
    "d.keys()"
   ]
  },
  {
   "cell_type": "code",
   "execution_count": 167,
   "metadata": {},
   "outputs": [
    {
     "data": {
      "text/plain": [
       "dict_values(['akshay', 25, 'new york'])"
      ]
     },
     "execution_count": 167,
     "metadata": {},
     "output_type": "execute_result"
    }
   ],
   "source": [
    "d.values()"
   ]
  },
  {
   "cell_type": "code",
   "execution_count": 168,
   "metadata": {},
   "outputs": [],
   "source": [
    "d.update({'sex': 'male'})"
   ]
  },
  {
   "cell_type": "code",
   "execution_count": 169,
   "metadata": {},
   "outputs": [
    {
     "data": {
      "text/plain": [
       "{'name': 'akshay', 'age': 25, 'city': 'new york', 'sex': 'male'}"
      ]
     },
     "execution_count": 169,
     "metadata": {},
     "output_type": "execute_result"
    }
   ],
   "source": [
    "d"
   ]
  },
  {
   "cell_type": "code",
   "execution_count": 171,
   "metadata": {},
   "outputs": [],
   "source": [
    "d.clear()"
   ]
  },
  {
   "cell_type": "code",
   "execution_count": 172,
   "metadata": {},
   "outputs": [
    {
     "data": {
      "text/plain": [
       "{}"
      ]
     },
     "execution_count": 172,
     "metadata": {},
     "output_type": "execute_result"
    }
   ],
   "source": [
    "d"
   ]
  },
  {
   "cell_type": "code",
   "execution_count": 173,
   "metadata": {},
   "outputs": [],
   "source": [
    "l1= ['name', 'age']"
   ]
  },
  {
   "cell_type": "code",
   "execution_count": 174,
   "metadata": {},
   "outputs": [],
   "source": [
    "l2= ['john', 30]"
   ]
  },
  {
   "cell_type": "code",
   "execution_count": 179,
   "metadata": {},
   "outputs": [
    {
     "data": {
      "text/plain": [
       "{'name': 'john', 'age': 30}"
      ]
     },
     "execution_count": 179,
     "metadata": {},
     "output_type": "execute_result"
    }
   ],
   "source": [
    "dict(zip(l1,l2))"
   ]
  },
  {
   "cell_type": "code",
   "execution_count": 181,
   "metadata": {},
   "outputs": [
    {
     "name": "stdout",
     "output_type": "stream",
     "text": [
      "num is negative\n"
     ]
    }
   ],
   "source": [
    "num= int(input('enter the number'))\n",
    "if num == 0:\n",
    "    print('num is zero')\n",
    "elif num > 0:\n",
    "    print('num is positive')\n",
    "else:\n",
    "    print('num is negative')\n",
    "\n",
    "\n",
    "\n"
   ]
  },
  {
   "cell_type": "code",
   "execution_count": 184,
   "metadata": {},
   "outputs": [
    {
     "name": "stdout",
     "output_type": "stream",
     "text": [
      "-6 is even\n"
     ]
    }
   ],
   "source": [
    "num= int(input('enter the number'))\n",
    "if num % 2 == 0:\n",
    "    print(num,\"is even\")\n",
    "else:\n",
    "    print(num, \"is odd number\")"
   ]
  },
  {
   "cell_type": "code",
   "execution_count": 190,
   "metadata": {},
   "outputs": [
    {
     "name": "stdout",
     "output_type": "stream",
     "text": [
      "is not a vowel\n"
     ]
    }
   ],
   "source": [
    "alpha = input('enter the alphabet')\n",
    "if alpha in ('a', 'e', 'i', 'o', 'u'):\n",
    "    print(\"is vowel\")\n",
    "else:\n",
    "    print(\"is not a vowel\")"
   ]
  },
  {
   "cell_type": "code",
   "execution_count": 192,
   "metadata": {},
   "outputs": [
    {
     "name": "stdout",
     "output_type": "stream",
     "text": [
      "you are eligible to vote\n"
     ]
    }
   ],
   "source": [
    "age = int(input('enter the age'))\n",
    "if age >= 18:\n",
    "    print(\"you are eligible to vote\")\n",
    "else:\n",
    "    print('you are nto eligible to vote')"
   ]
  },
  {
   "cell_type": "code",
   "execution_count": 197,
   "metadata": {},
   "outputs": [
    {
     "name": "stdout",
     "output_type": "stream",
     "text": [
      "52 is neither divisible by 5 nor 11\n"
     ]
    }
   ],
   "source": [
    "num = int(input('enter the number'))\n",
    "if num % 5 == 0:\n",
    "    print(num,'is divisible by 5')\n",
    "elif num % 11 == 0:\n",
    "    print(num, 'is divisible by 11')\n",
    "else:\n",
    "    print(num,'is neither divisible by 5 nor 11')"
   ]
  },
  {
   "cell_type": "code",
   "execution_count": 203,
   "metadata": {},
   "outputs": [
    {
     "name": "stdout",
     "output_type": "stream",
     "text": [
      "Category: Underweight\n"
     ]
    }
   ],
   "source": [
    "weight = float(input('enter the weight in kgs'))\n",
    "height= float(input('enter the height in ms'))\n",
    "bmi= weight/ (height ** 2)\n",
    "if bmi < 18.5:\n",
    "    print(\"Category: Underweight\")\n",
    "if 18.5 <= bmi < 24.9:\n",
    "    print(\"Category: Normal weight\")\n",
    "if 25 <= bmi < 29.9:\n",
    "    print(\"Category: Overweight\")\n",
    "if bmi >= 30:\n",
    "    print(\"Category: Obese\")"
   ]
  },
  {
   "cell_type": "code",
   "execution_count": 212,
   "metadata": {},
   "outputs": [
    {
     "name": "stdout",
     "output_type": "stream",
     "text": [
      "20 is lower\n"
     ]
    }
   ],
   "source": [
    "char = input('enter a character')\n",
    "if char.isupper():\n",
    "    print(char,'is upper')\n",
    "else:\n",
    "    print(char,'is lower')"
   ]
  },
  {
   "cell_type": "code",
   "execution_count": 223,
   "metadata": {},
   "outputs": [
    {
     "name": "stdout",
     "output_type": "stream",
     "text": [
      "avg 44.0\n",
      "D Grade\n"
     ]
    }
   ],
   "source": [
    "a= int(input('enter math marks'))\n",
    "b= int(input('enter biology marks'))\n",
    "c= int(input('enter science marks'))\n",
    "d= int(input('enter eng marks'))\n",
    "avg= (a+b+c+d) / 4\n",
    "print('avg',avg)\n",
    "if avg >= 90:\n",
    "    print(\" A Grade\")\n",
    "elif avg >= 75:\n",
    "    print(\"B Grade\")\n",
    "elif avg >= 60:\n",
    "    print(\"C Grade\")\n",
    "else:\n",
    "    print(\"D Grade\")\n",
    "\n"
   ]
  },
  {
   "cell_type": "code",
   "execution_count": 227,
   "metadata": {},
   "outputs": [
    {
     "name": "stdout",
     "output_type": "stream",
     "text": [
      "enter the correct colour\n"
     ]
    }
   ],
   "source": [
    "light = input('enter the light colour')\n",
    "if light == 'green':\n",
    "    print(\"GO\")\n",
    "elif light == 'orange':\n",
    "    print('GET READY')\n",
    "elif light == 'red':\n",
    "    print('STOP')\n",
    "else:\n",
    "    print('enter the correct colour')"
   ]
  },
  {
   "cell_type": "code",
   "execution_count": 230,
   "metadata": {},
   "outputs": [
    {
     "name": "stdout",
     "output_type": "stream",
     "text": [
      "bill as per units is 75.0\n"
     ]
    }
   ],
   "source": [
    "units= int(input('enter the no of units'))\n",
    "bill =0\n",
    "if units <= 100:\n",
    "    bill = units * 1.50\n",
    "elif units <= 200:\n",
    "    bill= units * 2.50\n",
    "else:\n",
    "    bill = units * 4\n",
    "\n",
    "\n",
    "print(\"bill as per units is\",bill)"
   ]
  },
  {
   "cell_type": "code",
   "execution_count": 235,
   "metadata": {},
   "outputs": [
    {
     "name": "stdout",
     "output_type": "stream",
     "text": [
      "string started with vowel\n"
     ]
    }
   ],
   "source": [
    "a= input('enter a name')\n",
    "if a[0] in {'a','e','i','o','u'}:\n",
    "    print(\"string started with vowel\")\n",
    "else:\n",
    "    print('string started with consonant')"
   ]
  },
  {
   "cell_type": "code",
   "execution_count": 245,
   "metadata": {},
   "outputs": [
    {
     "name": "stdout",
     "output_type": "stream",
     "text": [
      "tax for the incom is 712500.0\n"
     ]
    }
   ],
   "source": [
    "income= int(input('enter the income'))\n",
    "x=0\n",
    "y=0\n",
    "a=0\n",
    "b=0\n",
    "tax=0\n",
    "if income <= 250000:\n",
    "    print('there is no tax')\n",
    "elif income <= 500000:\n",
    "    x= income - 250000\n",
    "    tax = (5 / 100) * x\n",
    "    print(\"tax for the income\",x)\n",
    "elif income <= 1000000:\n",
    "    x= income - 500000\n",
    "    a= (20 / 100) * x\n",
    "    b= 12500\n",
    "    tax = a + b\n",
    "    print('tax of the income is',tax)\n",
    "else:\n",
    "    x= income - 1000000\n",
    "    a= (30 / 100) * x\n",
    "    b= 112500\n",
    "    tax = a + b \n",
    "    print(\"tax for the incom is\", tax)\n",
    "\n",
    "\n",
    "\n",
    "\n",
    "\n",
    "\n",
    "\n"
   ]
  },
  {
   "cell_type": "code",
   "execution_count": 246,
   "metadata": {},
   "outputs": [
    {
     "name": "stdout",
     "output_type": "stream",
     "text": [
      "your are eligible for senior citizen discount\n"
     ]
    }
   ],
   "source": [
    "#Write a program to check whether a person is eligible for a senior citizen discount based on their age.\n",
    "age= int(input('enter the age'))\n",
    "if age >= 60:\n",
    "    print('your are eligible for senior citizen discount')\n",
    "else:\n",
    "    print('you are not eligible for senior citizen discount')"
   ]
  },
  {
   "cell_type": "code",
   "execution_count": 251,
   "metadata": {},
   "outputs": [
    {
     "name": "stdout",
     "output_type": "stream",
     "text": [
      "category: Normal weight\n"
     ]
    }
   ],
   "source": [
    "weight = float(input('enter the weight in kgs'))\n",
    "height= float(input('enter the height in ms'))\n",
    "bmi= weight/ (height ** 2)\n",
    "\n",
    "if bmi < 18.5:\n",
    "    print('category: underweight')\n",
    "elif bmi <= 24.9:\n",
    "    print('category: Normal weight')\n",
    "elif bmi<= 29.9:\n",
    "    print('category: overweiht')\n",
    "else:\n",
    "    print('category:obese')"
   ]
  },
  {
   "cell_type": "code",
   "execution_count": 254,
   "metadata": {},
   "outputs": [
    {
     "name": "stdout",
     "output_type": "stream",
     "text": [
      "Welcome to coffee shop\n",
      "Menu:\n",
      "1. Espresso  150RS\n",
      "2. Cappuccino  250RS\n",
      "3. Latte  250RS\n",
      "4. Mocha  300RS\n",
      "the cost is 300rs and enjoy your coffee\n"
     ]
    }
   ],
   "source": [
    "print(\"Welcome to coffee shop\")\n",
    "print('Menu:')\n",
    "print('1. Espresso  150RS')\n",
    "print('2. Cappuccino  250RS')\n",
    "print('3. Latte  250RS')\n",
    "print('4. Mocha  300RS')\n",
    "choice = int(input('enter your choice from the above: '))\n",
    "if choice == 1:\n",
    "    print(\"the cost is 150rs and enjoy your coffee\")\n",
    "elif choice == 2:\n",
    "    print(\"the cost is 250rs and enjoy your coffee\")\n",
    "elif choice == 3:\n",
    "    print(\"the cost is 250rs and enjoy your coffee\")\n",
    "elif choice == 4:\n",
    "    print(\"the cost is 300rs and enjoy your coffee\")\n",
    "else:\n",
    "    print('enter the correct choice')"
   ]
  },
  {
   "cell_type": "code",
   "execution_count": 265,
   "metadata": {},
   "outputs": [
    {
     "name": "stdout",
     "output_type": "stream",
     "text": [
      "SBI ATM\n",
      "1. Enter here to check balance\n",
      "2. enter here to deposit the cash\n",
      "3. enter here to withdraw amount\n",
      "enter the correct choice\n"
     ]
    }
   ],
   "source": [
    "balance= 1000\n",
    "print('SBI ATM')\n",
    "print('1. Enter here to check balance')\n",
    "print('2. enter here to deposit the cash')\n",
    "print('3. enter here to withdraw amount')\n",
    "choice = int(input('enter your choice'))\n",
    "if choice == 1:\n",
    "    print('your balance is 1000')\n",
    "elif choice == 2:\n",
    "    deposit= int(input('enter the amount to deposit'))\n",
    "    if deposit > 0:\n",
    "        balance += deposit\n",
    "        print('your amount is successfully deposited and your new balance is', balance)\n",
    "    else:\n",
    "        print('enter the valid amount')\n",
    "elif choice == 3:\n",
    "    withdraw= int(input('enter the amount to withdraw'))\n",
    "    if balance > withdraw:\n",
    "        balance = balance - withdraw\n",
    "        print('your withdraw is successfully done and your reaining balance is', balance)\n",
    "    else:\n",
    "        print('insufficient balance')\n",
    "    \n",
    "else:\n",
    "    print('enter the correct choice')"
   ]
  },
  {
   "cell_type": "code",
   "execution_count": 273,
   "metadata": {},
   "outputs": [
    {
     "name": "stdout",
     "output_type": "stream",
     "text": [
      "the month is rainy or monsoon season\n"
     ]
    }
   ],
   "source": [
    "month= input('enter the month')\n",
    "if month in {'jan', 'dec', 'feb'}:\n",
    "    print('the month is winter season')\n",
    "elif month in {'mar', 'april', 'may', 'june'}:\n",
    "    print('these month is summer season')\n",
    "elif month in {'july','august', 'sep'}:\n",
    "    print(\"the month is rainy or monsoon season\")\n",
    "else:\n",
    "    print('the month is autumn season')"
   ]
  },
  {
   "cell_type": "code",
   "execution_count": 278,
   "metadata": {},
   "outputs": [
    {
     "name": "stdout",
     "output_type": "stream",
     "text": [
      "the discount amount is  2000.0\n",
      "the amount after 20% discount is  8000.0\n"
     ]
    }
   ],
   "source": [
    "amount= int(input('enter the amount'))\n",
    "x=0\n",
    "y=0\n",
    "if amount <= 0:\n",
    "    print('enter the valid amount')\n",
    "elif amount <= 1000:\n",
    "    x = 5 / 100 * amount\n",
    "    y = amount - x \n",
    "    print('the discount amount is ', x)\n",
    "    print('the amount after 5 percent  discount is ', y)\n",
    "elif amount <= 3000:\n",
    "    x = 10 / 100 * amount\n",
    "    y = amount - x \n",
    "    print('the discount amount is ', x)\n",
    "    print('the amount after 10 percent  discount is ', y)\n",
    "elif amount <= 5000:\n",
    "    x = 15 / 100 * amount\n",
    "    y = amount - x \n",
    "    print('the discount amount is ', x)\n",
    "    print('the amount after 15 percent discount is ', y)\n",
    "else:\n",
    "    x = 20 / 100 * amount\n",
    "    y = amount - x \n",
    "    print('the discount amount is ', x)\n",
    "    print('the amount after 20% discount is ', y)\n",
    "\n",
    "\n"
   ]
  },
  {
   "cell_type": "code",
   "execution_count": 284,
   "metadata": {},
   "outputs": [
    {
     "name": "stdout",
     "output_type": "stream",
     "text": [
      "the given number is positive\n",
      "the given number is odd number\n"
     ]
    }
   ],
   "source": [
    "number = int(input('enter a number'))\n",
    "if number == 0:\n",
    "    print(\"the givem number is zero and it is even number\")\n",
    "elif number < 0:\n",
    "    print('the given number is negative')\n",
    "    if number / 2 == 0:\n",
    "        print('the given number is even')\n",
    "    else:\n",
    "        print('the given number is odd number')\n",
    "else:\n",
    "    print('the given number is positive')\n",
    "    if number / 2 == 0:\n",
    "        print('the given number is even')\n",
    "    else:\n",
    "        print('the given number is odd number')\n"
   ]
  },
  {
   "cell_type": "code",
   "execution_count": 287,
   "metadata": {},
   "outputs": [
    {
     "name": "stdout",
     "output_type": "stream",
     "text": [
      "the day is monday\n"
     ]
    }
   ],
   "source": [
    "num = int(input('enter the day'))\n",
    "if num == 1:\n",
    "    print('the day is monday')\n",
    "elif num == 2:\n",
    "    print('the day is tuesday')\n",
    "elif num == 3:\n",
    "    print('the day is wednesday')\n",
    "elif num == 4:\n",
    "    print('the day is thursday')\n",
    "elif num == 5:\n",
    "    print('the day is friday')\n",
    "elif num == 6:\n",
    "    print('the day is saturday')\n",
    "elif num == 7:\n",
    "    print('the day is sunday')\n",
    "else:\n",
    "    print('enter the valid day')\n",
    "\n",
    "\n",
    "\n"
   ]
  },
  {
   "cell_type": "code",
   "execution_count": 295,
   "metadata": {},
   "outputs": [
    {
     "name": "stdout",
     "output_type": "stream",
     "text": [
      "the employee grade is excellent\n"
     ]
    }
   ],
   "source": [
    "rating = int(input('enter the employee performance rating'))\n",
    "if rating > 90:\n",
    "    print('the employee grade is excellent')\n",
    "elif rating > 75:\n",
    "    print('the employee grade is good ')\n",
    "elif rating > 50:\n",
    "    print('the employee grade is average')\n",
    "elif rating < 50:\n",
    "    print('the employee garde is poor')\n",
    "else:\n",
    "    print('enter the valid rating')"
   ]
  },
  {
   "cell_type": "code",
   "execution_count": 298,
   "metadata": {},
   "outputs": [
    {
     "name": "stdout",
     "output_type": "stream",
     "text": [
      "the zodiac sign is CAPRICON\n"
     ]
    }
   ],
   "source": [
    "month= int(input('enter the birth month (1-12)') )\n",
    "date= int(input('enter the birth date (1-31)'))\n",
    "\n",
    "if (month == 1 and date >= 20) or (month == 2 and date <= 18):\n",
    "    print('the zodiac sign is AQUARIUS')\n",
    "elif (month == 2 and date >= 19) or (month == 3 and date <= 20):\n",
    "    print('the zodiac sign is PISCES')\n",
    "elif (month == 3 and date >= 21) or (month == 4 and date <= 19):\n",
    "    print('the zodiac sign is ARIES')\n",
    "elif (month == 4 and date >= 20) or (month == 5 and date <= 20):\n",
    "    print('the zodiac sign is TAURUS')\n",
    "elif (month == 5 and date >= 21) or (month == 6 and date <= 20):\n",
    "    print('the zodiac sign is GEMINI')\n",
    "elif (month == 6 and date >= 21) or (month == 7 and date <= 22):\n",
    "    print('the zodiac sign is CANCER')\n",
    "elif (month == 7 and date >= 23) or (month == 8 and date <= 22):\n",
    "    print('the zodiac sign is LEO')\n",
    "elif (month == 8 and date >= 23) or (month == 9 and date <= 22):\n",
    "    print('the zodiac sign is VIRGO')\n",
    "elif (month == 9 and date >= 23) or (month == 10 and date <= 22):\n",
    "    print('the zodiac sign is LIBRA')\n",
    "elif (month == 10 and date >= 23) or (month == 11 and date <= 21):\n",
    "    print('the zodiac sign is SCORPIO')\n",
    "elif (month == 11 and date >= 22) or (month == 12 and date <= 21):\n",
    "    print('the zodiac sign is SAGGITARIUS')\n",
    "elif (month == 12 and date >= 22) or (month == 1 and date <= 19):\n",
    "    print('the zodiac sign is CAPRICON')\n",
    "else:\n",
    "    print('enter the correct date or month')\n"
   ]
  },
  {
   "cell_type": "code",
   "execution_count": 300,
   "metadata": {},
   "outputs": [
    {
     "name": "stdout",
     "output_type": "stream",
     "text": [
      "10\n",
      "20\n",
      "30\n",
      "40\n",
      "50\n",
      "60\n",
      "70\n",
      "80\n",
      "90\n"
     ]
    }
   ],
   "source": [
    "n= int(input('enter a number'))\n",
    "for i in range(1,10):\n",
    "    x= n*i\n",
    "    print(x)"
   ]
  },
  {
   "cell_type": "code",
   "execution_count": 302,
   "metadata": {},
   "outputs": [
    {
     "name": "stdout",
     "output_type": "stream",
     "text": [
      "15 is divisible by 3 and 5\n",
      "30 is divisible by 3 and 5\n"
     ]
    }
   ],
   "source": [
    "n= int(input('enter a number'))\n",
    "for i in range(1,n):\n",
    "    if i%3 == 0 and i%5 == 0:\n",
    "        print(i,'is divisible by 3 and 5')\n"
   ]
  },
  {
   "cell_type": "code",
   "execution_count": 337,
   "metadata": {},
   "outputs": [
    {
     "name": "stdout",
     "output_type": "stream",
     "text": [
      "55\n"
     ]
    }
   ],
   "source": [
    "n= int(input('enter a number'))\n",
    "a=0\n",
    "for i in range(1,n+1):\n",
    "    a += i ** 2\n",
    "\n",
    "print(a)\n"
   ]
  },
  {
   "cell_type": "code",
   "execution_count": 319,
   "metadata": {},
   "outputs": [
    {
     "name": "stdout",
     "output_type": "stream",
     "text": [
      "70\n"
     ]
    }
   ],
   "source": [
    "l=[10,20,30,40,50,60,70,80]\n",
    "first_lar=second_lar=0\n",
    "for i in l:\n",
    "    if i > first_lar:\n",
    "        second_lar = first_lar\n",
    "        first_lar = i\n",
    "    elif i > second_lar and i != first_lar:\n",
    "        second_lar = i\n",
    "\n",
    "print(second_lar)\n"
   ]
  },
  {
   "cell_type": "code",
   "execution_count": 331,
   "metadata": {},
   "outputs": [
    {
     "name": "stdout",
     "output_type": "stream",
     "text": [
      "[80, 70, 60, 50, 40, 30, 20, 10]\n"
     ]
    }
   ],
   "source": [
    "l=[10,20,30,40,50,60,70,80]\n",
    "l1=[]\n",
    "for i in range(len(l)-1,-1,-1):\n",
    "    l1.append(l[i])\n",
    "\n",
    "print(l1)\n",
    "\n",
    "\n"
   ]
  },
  {
   "cell_type": "code",
   "execution_count": 330,
   "metadata": {},
   "outputs": [
    {
     "data": {
      "text/plain": [
       "[10, 20, 30, 40, 50, 60, 70, 80]"
      ]
     },
     "execution_count": 330,
     "metadata": {},
     "output_type": "execute_result"
    }
   ],
   "source": [
    "l"
   ]
  },
  {
   "cell_type": "code",
   "execution_count": 336,
   "metadata": {},
   "outputs": [
    {
     "name": "stdout",
     "output_type": "stream",
     "text": [
      "25\n"
     ]
    }
   ],
   "source": [
    "l=[1,2,3,4,5,6,7,8,9]\n",
    "a=0\n",
    "for i in l:\n",
    "    if i % 2 != 0:\n",
    "        a += i\n",
    "print(a)\n",
    "\n"
   ]
  },
  {
   "cell_type": "code",
   "execution_count": 341,
   "metadata": {},
   "outputs": [
    {
     "name": "stdout",
     "output_type": "stream",
     "text": [
      "the count of numbers in a list greater than a is 4\n",
      "[6, 7, 8, 9]\n"
     ]
    }
   ],
   "source": [
    "l=[1,2,3,4,5,6,7,8,9]\n",
    "a = 5\n",
    "l1=[]\n",
    "for i in l:\n",
    "    if i > 5:\n",
    "        l1.append(i)\n",
    "x= len(l1)\n",
    "print('the count of numbers in a list greater than a is', x)\n",
    "print(l1)"
   ]
  },
  {
   "cell_type": "code",
   "execution_count": 345,
   "metadata": {},
   "outputs": [
    {
     "name": "stdout",
     "output_type": "stream",
     "text": [
      "the length of akshay is 6\n",
      "the length of karthik is 7\n",
      "the length of chitti is 6\n",
      "the length of harsha is 6\n",
      "the length of rakku is 5\n"
     ]
    }
   ],
   "source": [
    "l= ['akshay','karthik','chitti','harsha','rakku']\n",
    "x=0\n",
    "for i in l:\n",
    "    x= len(i)\n",
    "    print('the length of',i,'is',x)\n",
    "    "
   ]
  },
  {
   "cell_type": "code",
   "execution_count": 351,
   "metadata": {},
   "outputs": [
    {
     "name": "stdout",
     "output_type": "stream",
     "text": [
      " * \n",
      " *  * \n",
      " *  *  * \n",
      " *  *  *  * \n",
      " *  *  *  *  * \n",
      " *  *  *  *  *  * \n",
      " *  *  *  *  *  *  * \n",
      " *  *  *  *  *  *  *  * \n",
      " *  *  *  *  *  *  *  *  * \n",
      " *  *  *  *  *  *  *  *  *  * \n"
     ]
    }
   ],
   "source": [
    "row = 10\n",
    "for i in range(1,row+1):\n",
    "    print(\" * \"*i)"
   ]
  },
  {
   "cell_type": "code",
   "execution_count": 368,
   "metadata": {},
   "outputs": [
    {
     "name": "stdout",
     "output_type": "stream",
     "text": [
      "15\n"
     ]
    }
   ],
   "source": [
    "s = '12345'\n",
    "b=0\n",
    "i=0\n",
    "while i <= len(s):\n",
    "    b += i\n",
    "    i = i + 1\n",
    "print(b)\n"
   ]
  },
  {
   "cell_type": "code",
   "execution_count": 359,
   "metadata": {},
   "outputs": [
    {
     "name": "stdout",
     "output_type": "stream",
     "text": [
      "4\n"
     ]
    }
   ],
   "source": [
    "s = 1234\n",
    "s1= str(s)\n",
    "a=0\n",
    "for i in s1:\n",
    "    int(i) > a\n",
    "    a = int(i)\n",
    "print(i)\n",
    "\n"
   ]
  },
  {
   "cell_type": "code",
   "execution_count": 364,
   "metadata": {},
   "outputs": [
    {
     "name": "stdout",
     "output_type": "stream",
     "text": [
      "2\n",
      "4\n",
      "6\n",
      "8\n",
      "10\n"
     ]
    }
   ],
   "source": [
    "n= 10\n",
    "i = 1\n",
    "while i <= n:\n",
    "    if i %2 == 0:\n",
    "        print(i)\n",
    "    i += 1"
   ]
  },
  {
   "cell_type": "code",
   "execution_count": 367,
   "metadata": {},
   "outputs": [
    {
     "name": "stdout",
     "output_type": "stream",
     "text": [
      "5050\n"
     ]
    }
   ],
   "source": [
    "n= 100\n",
    "i= 0\n",
    "sum = 0\n",
    "while i <= n:\n",
    "    sum += i\n",
    "    i += 1\n",
    "print(sum)\n"
   ]
  },
  {
   "cell_type": "code",
   "execution_count": 388,
   "metadata": {},
   "outputs": [
    {
     "name": "stdout",
     "output_type": "stream",
     "text": [
      "6\n"
     ]
    }
   ],
   "source": [
    "n = 12345\n",
    "sum= 0\n",
    "i=0\n",
    "while i < len(s):\n",
    "    sum += i\n",
    "    i += 1\n",
    "print(sum)\n"
   ]
  },
  {
   "cell_type": "code",
   "execution_count": 380,
   "metadata": {},
   "outputs": [
    {
     "name": "stdout",
     "output_type": "stream",
     "text": [
      "wrong guess\n",
      "wrong guess\n",
      "correct guess\n"
     ]
    }
   ],
   "source": [
    "i = 20\n",
    "n= -1\n",
    "while i!=n:\n",
    "    n = int(input('enter a number'))\n",
    "    if i!=n:\n",
    "        print('wrong guess')\n",
    "    else :\n",
    "        print('correct guess')\n"
   ]
  },
  {
   "cell_type": "code",
   "execution_count": 384,
   "metadata": {},
   "outputs": [
    {
     "name": "stdout",
     "output_type": "stream",
     "text": [
      "wrong\n",
      "wrong\n",
      "wrong\n",
      "wrong\n",
      "correct\n"
     ]
    }
   ],
   "source": [
    "s = ''\n",
    "while s!= 'exit':\n",
    "    s= input(\"enter exit\")\n",
    "    if s!= 'exit':\n",
    "        print('wrong')\n",
    "    else:\n",
    "        print('correct')"
   ]
  },
  {
   "cell_type": "code",
   "execution_count": 392,
   "metadata": {},
   "outputs": [
    {
     "ename": "TypeError",
     "evalue": "'int' object is not iterable",
     "output_type": "error",
     "traceback": [
      "\u001b[1;31m---------------------------------------------------------------------------\u001b[0m",
      "\u001b[1;31mTypeError\u001b[0m                                 Traceback (most recent call last)",
      "Cell \u001b[1;32mIn[392], line 8\u001b[0m\n\u001b[0;32m      6\u001b[0m n\u001b[38;5;241m=\u001b[39m \u001b[38;5;28mint\u001b[39m(\u001b[38;5;28minput\u001b[39m(\u001b[38;5;124m'\u001b[39m\u001b[38;5;124menter a number\u001b[39m\u001b[38;5;124m'\u001b[39m))\n\u001b[0;32m      7\u001b[0m \u001b[38;5;66;03m#1234\u001b[39;00m\n\u001b[1;32m----> 8\u001b[0m \u001b[43m\u001b[49m\u001b[38;5;28;43;01mfor\u001b[39;49;00m\u001b[43m \u001b[49m\u001b[43mi\u001b[49m\u001b[43m \u001b[49m\u001b[38;5;129;43;01min\u001b[39;49;00m\u001b[43m \u001b[49m\u001b[43mn\u001b[49m\u001b[43m:\u001b[49m\n\u001b[0;32m      9\u001b[0m \u001b[43m    \u001b[49m\u001b[38;5;28;43msum\u001b[39;49m\u001b[43m \u001b[49m\u001b[38;5;241;43m+\u001b[39;49m\u001b[38;5;241;43m=\u001b[39;49m\u001b[43m \u001b[49m\u001b[43mi\u001b[49m\u001b[38;5;241;43m*\u001b[39;49m\u001b[43mb\u001b[49m\n\u001b[0;32m     10\u001b[0m \u001b[43m    \u001b[49m\u001b[38;5;28;43;01mif\u001b[39;49;00m\u001b[43m \u001b[49m\u001b[38;5;28;43msum\u001b[39;49m\u001b[43m \u001b[49m\u001b[38;5;241;43m==\u001b[39;49m\u001b[43m \u001b[49m\u001b[43mn\u001b[49m\u001b[43m:\u001b[49m\n",
      "\u001b[1;31mTypeError\u001b[0m: 'int' object is not iterable"
     ]
    }
   ],
   "source": [
    "n= int(input('enter a number'))\n",
    "a= type(str(n))\n",
    "b= range(1,n+1)\n",
    "sum = 0\n",
    "while n!=sum:\n",
    "    n= int(input('enter a number'))\n",
    "    #1234\n",
    "    for i in n:\n",
    "        sum += i*b\n",
    "        if sum == n:\n",
    "            print('it is armstrong number')\n",
    "        else:\n",
    "            print('this is nt armstrong num')\n",
    "\n",
    "\n",
    "\n",
    "\n"
   ]
  },
  {
   "cell_type": "code",
   "execution_count": 399,
   "metadata": {},
   "outputs": [
    {
     "name": "stdout",
     "output_type": "stream",
     "text": [
      "7\n",
      "6\n",
      "5\n",
      "4\n",
      "3\n",
      "2\n",
      "1\n",
      "0\n"
     ]
    }
   ],
   "source": [
    "n=  int(input('enter a number'))\n",
    "while n >= 0:\n",
    "    print(n)\n",
    "    n -= 1 "
   ]
  },
  {
   "cell_type": "code",
   "execution_count": 1,
   "metadata": {},
   "outputs": [
    {
     "name": "stdout",
     "output_type": "stream",
     "text": [
      "armstrong\n"
     ]
    }
   ],
   "source": [
    "n = int(input('enter a number'))\n",
    "sum= 0\n",
    "a = len(str(n))\n",
    "while n != sum:\n",
    "   n = int(input('enter a number'))\n",
    "   b= n%10\n",
    "   sum += b*a\n",
    "   n // 10\n",
    "   if n!= sum:\n",
    "      print('not armstrong')\n",
    "   else:\n",
    "      print('armstrong')\n",
    "\n",
    "\n"
   ]
  },
  {
   "cell_type": "code",
   "execution_count": 10,
   "metadata": {},
   "outputs": [
    {
     "data": {
      "text/plain": [
       "'course id: 250,course name:python,instructor name:akshay'"
      ]
     },
     "execution_count": 10,
     "metadata": {},
     "output_type": "execute_result"
    }
   ],
   "source": [
    "class course:\n",
    "    def __init__(self,course_id,course_name,instructor_name):\n",
    "        self.course_id=course_id\n",
    "        self.course_name=course_name\n",
    "        self.instructor_name=instructor_name\n",
    "    def coursedetails(self):\n",
    "        return f'course id: {self.course_id},course name:{self.course_name},instructor name:{self.instructor_name}'\n",
    "a=course(250,'python','akshay')\n",
    "a.coursedetails()"
   ]
  },
  {
   "cell_type": "code",
   "execution_count": 12,
   "metadata": {},
   "outputs": [],
   "source": [
    "class student:\n",
    "    def __init__(self,student_id,name,enrolled_courses):\n",
    "        self.student_id=student_id\n",
    "        self.name=name\n",
    "        self.enrolled_courses=enrolled_courses\n",
    "    def enrollstudent(self,studentname):\n",
    "        self.studentname=studentname\n",
    "        return f'{self.studentname} is enrolled in {self.enrolled_courses}'\n",
    "        \n",
    "   "
   ]
  },
  {
   "cell_type": "code",
   "execution_count": 15,
   "metadata": {},
   "outputs": [
    {
     "data": {
      "text/plain": [
       "'dinesh is enrolled in python,java'"
      ]
     },
     "execution_count": 15,
     "metadata": {},
     "output_type": "execute_result"
    }
   ],
   "source": [
    "x=student(250,'akshay','python,java')\n",
    "x.enrollstudent('dinesh')\n"
   ]
  },
  {
   "cell_type": "code",
   "execution_count": 36,
   "metadata": {},
   "outputs": [
    {
     "name": "stdout",
     "output_type": "stream",
     "text": [
      " aks77 is sub with premium and the price is 1999\n"
     ]
    },
    {
     "data": {
      "text/plain": [
       "'subscription is updated to gold and upgraded amount is 2555'"
      ]
     },
     "execution_count": 36,
     "metadata": {},
     "output_type": "execute_result"
    }
   ],
   "source": [
    "class sub:\n",
    "    def __init__(self,username,subtype,price):\n",
    "        self.username=username\n",
    "        self.suntype=subtype\n",
    "        self.price=price\n",
    "    def details(self):\n",
    "        return f' {self.username} is sub with {self.suntype} and the price is {self.price}'\n",
    "    def upgradesub(self,type,price):\n",
    "        self.type=type\n",
    "        self.price=price\n",
    "        return f'subscription is updated to {self.type} and upgraded amount is {self.price}'\n",
    "\n",
    "z=sub('aks77','premium',1999)\n",
    "print(z.details())\n",
    "z.upgradesub('gold',2555)\n",
    "\n",
    "        "
   ]
  },
  {
   "cell_type": "code",
   "execution_count": 26,
   "metadata": {},
   "outputs": [
    {
     "name": "stdout",
     "output_type": "stream",
     "text": [
      " aks77 is sub with premium and the price is 1999\n"
     ]
    }
   ],
   "source": [
    "z=sub('aks77','premium',1999)\n",
    "print(z.details())"
   ]
  },
  {
   "cell_type": "code",
   "execution_count": 41,
   "metadata": {},
   "outputs": [],
   "source": [
    "class databaseconnection:\n",
    "    def __init__(self):\n",
    "        print('Connected to the data base')\n",
    "    def __del__(self):\n",
    "        print ('disconnected from the database')\n",
    "    "
   ]
  },
  {
   "cell_type": "code",
   "execution_count": 43,
   "metadata": {},
   "outputs": [
    {
     "name": "stdout",
     "output_type": "stream",
     "text": [
      "Connected to the data base\n",
      "disconnected from the database\n"
     ]
    }
   ],
   "source": [
    "x= databaseconnection()\n",
    "del x"
   ]
  },
  {
   "cell_type": "code",
   "execution_count": 44,
   "metadata": {},
   "outputs": [],
   "source": [
    "class user:\n",
    "    def __init__(self,user_id,name):\n",
    "        self.user_id=user_id\n",
    "        self.name=name\n",
    "    def showdetails(self):\n",
    "        return f'user signed up with{self.user_id} and {__name__}'\n",
    "class student(user):\n",
    "    def __init__(self, student):\n",
    "        self.student=student\n",
    "    def showdetails(self):\n",
    "        return f'user signed up with{self.user_id},{self.student} and {__name__} '   \n",
    "class teacher(user):\n",
    "    def __init__(self, teacher):\n",
    "        self.teacher=teacher\n",
    "    def showdetails(self):\n",
    "        return f'user signed up with{self.user_id},{self.teacher} and {__name__} ' \n"
   ]
  },
  {
   "cell_type": "code",
   "execution_count": 49,
   "metadata": {},
   "outputs": [
    {
     "name": "stdout",
     "output_type": "stream",
     "text": [
      " user id:252,name: akshay,grade:a\n",
      " user id:252,name: akshay,subject:maths\n"
     ]
    }
   ],
   "source": [
    "class user:\n",
    "    def __init__(self,user_id,name):\n",
    "        self.user_id=user_id\n",
    "        self.name=name\n",
    "    def showdetails(self):\n",
    "        return f'user signed up with{self.user_id} and {__name__}'\n",
    "class student(user):\n",
    "    def __init__(self, user_id, name,grade):\n",
    "        super().__init__(user_id, name)\n",
    "        self.grade=grade\n",
    "    def showdetails(self):\n",
    "        return f' user id:{self.user_id},name: {self.name},grade:{self.grade}'\n",
    "class teacher(user):\n",
    "    def __init__(self, user_id, name,subject):\n",
    "        super().__init__(user_id, name)\n",
    "        self.subject=subject\n",
    "    def showdetails(self):\n",
    "        return f' user id:{self.user_id},name: {self.name},subject:{self.subject}'\n",
    "student = student(252,'akshay','a')\n",
    "teacher= teacher(252,'akshay','maths')\n",
    "print(student.showdetails())\n",
    "print(teacher.showdetails())"
   ]
  },
  {
   "cell_type": "code",
   "execution_count": 51,
   "metadata": {},
   "outputs": [
    {
     "name": "stdout",
     "output_type": "stream",
     "text": [
      " user id:252,name: akshay,subject:maths\n",
      " user id:252,name: akshay,grade:a\n"
     ]
    }
   ],
   "source": [
    "class user:\n",
    "    def __init__(self,user_id,name):\n",
    "        self.user_id=user_id\n",
    "        self.name=name\n",
    "    def showdetails(self):\n",
    "        return f'user signed up with{self.user_id} and {__name__}'\n",
    "class student(user):\n",
    "    def __init__(self, user_id, name,grade):\n",
    "        super().__init__(user_id, name)\n",
    "        self.grade=grade\n",
    "    def showdetails(self):\n",
    "        return f' user id:{self.user_id},name: {self.name},grade:{self.grade}'\n",
    "class teacher(user):\n",
    "    def __init__(self, user_id, name,subject):\n",
    "        super().__init__(user_id, name)\n",
    "        self.subject=subject\n",
    "    def showdetails(self):\n",
    "        return f' user id:{self.user_id},name: {self.name},subject:{self.subject}'\n",
    "def show_details(entity):\n",
    "    print(entity.showdetails())\n",
    "\n",
    "student = student(252,'akshay','a')\n",
    "teacher= teacher(252,'akshay','maths')\n",
    "show_details(teacher)\n",
    "show_details(student)"
   ]
  },
  {
   "cell_type": "code",
   "execution_count": 61,
   "metadata": {},
   "outputs": [
    {
     "ename": "NameError",
     "evalue": "name 'show_vehcile_info' is not defined",
     "output_type": "error",
     "traceback": [
      "\u001b[1;31m---------------------------------------------------------------------------\u001b[0m",
      "\u001b[1;31mNameError\u001b[0m                                 Traceback (most recent call last)",
      "Cell \u001b[1;32mIn[61], line 24\u001b[0m\n\u001b[0;32m     22\u001b[0m car\u001b[38;5;241m=\u001b[39mcar(\u001b[38;5;124m'\u001b[39m\u001b[38;5;124mplatinum\u001b[39m\u001b[38;5;124m'\u001b[39m,\u001b[38;5;241m1996\u001b[39m,\u001b[38;5;241m1996\u001b[39m,\u001b[38;5;241m6\u001b[39m)\n\u001b[0;32m     23\u001b[0m motorcycle\u001b[38;5;241m=\u001b[39mmotorcycle(\u001b[38;5;124m'\u001b[39m\u001b[38;5;124mplatinum\u001b[39m\u001b[38;5;124m'\u001b[39m,\u001b[38;5;241m1995\u001b[39m,\u001b[38;5;241m1995\u001b[39m,\u001b[38;5;124m'\u001b[39m\u001b[38;5;124mxy\u001b[39m\u001b[38;5;124m'\u001b[39m)\n\u001b[1;32m---> 24\u001b[0m \u001b[43mshow_vehcile_info\u001b[49m(car)\n\u001b[0;32m     25\u001b[0m show_vehcile_info(motorcycle)\n",
      "\u001b[1;31mNameError\u001b[0m: name 'show_vehcile_info' is not defined"
     ]
    }
   ],
   "source": [
    "class vehcile:\n",
    "    def __init__(self,make,model,year):\n",
    "        self.make=make\n",
    "        self.model=model\n",
    "        self.year=year\n",
    "    def showvehciledetails(self):\n",
    "        return f'make:{self.make},model:{self.model},year:{self.year}'\n",
    "class car(vehcile):\n",
    "    def __init__(self, make, model, year,doorno):\n",
    "        super().__init__(make, model, year)\n",
    "        self.doorno=doorno\n",
    "    def showvehciledetails(self):\n",
    "        return f'make:{self.make},model:{self.model},year:{self.year},doorno:{self.doorno}'\n",
    "class motorcycle(vehcile):\n",
    "    def __init__(self, make, model, year,v_twin):\n",
    "        super().__init__(make, model, year)\n",
    "        self.v_twin=v_twin\n",
    "    def showvehciledetails(self):\n",
    "        return f' make:{self.make},model:{self.model},year:{self.year},v_twin:{self.v_twin}'\n",
    "def show_vehicle_info(vehicle):\n",
    "    return vehicle.showvehciledetails()\n",
    "car=car('platinum',1996,1996,6)\n",
    "motorcycle=motorcycle('platinum',1995,1995,'xy')\n",
    "show_vehcile_info(car)\n",
    "show_vehcile_info(motorcycle)\n",
    "\n",
    "\n",
    "\n",
    "    "
   ]
  },
  {
   "cell_type": "code",
   "execution_count": 69,
   "metadata": {},
   "outputs": [
    {
     "name": "stdout",
     "output_type": "stream",
     "text": [
      "emp_id: 12,name: aks,salary: 25000,team size:6\n",
      "emp_id: 12,name: aks,salary: 25000,team size:6\n"
     ]
    }
   ],
   "source": [
    "class Employee:\n",
    "    def __init__(self,emp_id,name,salary):\n",
    "        self.emp_id=emp_id\n",
    "        self.name=name\n",
    "        self.salary=salary\n",
    "    def show_employee_details(self):\n",
    "        print(f'emp_id: {self.emp_id},name: {self.name},salary: {self.salary}')\n",
    "class Manager(Employee):\n",
    "    def __init__(self, emp_id, name, salary,team_size):\n",
    "        super().__init__(emp_id, name, salary)\n",
    "        self.team_size=team_size\n",
    "    def show_employee_details(self):\n",
    "        print(f'emp_id: {self.emp_id},name: {self.name},salary: {self.salary},team size:{self.team_size}')\n",
    "class Developer(Employee):\n",
    "    def __init__(self, emp_id, name, salary,programming_language):\n",
    "        super().__init__(emp_id, name, salary)\n",
    "        self.programming_language=programming_language\n",
    "    def show_employee_details(self):\n",
    "        print(f'emp_id: {self.emp_id},name: {self.name},salary: {self.salary},pro language:{self.programming_language}')\n",
    "def show_employee_info(employee):\n",
    "    return employee.show_employee_details()\n",
    "\n",
    "x=Manager(12,'aks',25000,6)\n",
    "y=Developer(12,'aks',25,'python')\n",
    "x.show_employee_details()\n",
    "show_employee_info(x)\n",
    "\n"
   ]
  },
  {
   "cell_type": "code",
   "execution_count": 70,
   "metadata": {},
   "outputs": [],
   "source": [
    "#Implement a class Payment with private attributes _card_number and _cvv. Add methods to:Set and get card details securely.\n",
    "\n",
    "\n",
    "\n",
    "\n",
    "class Payment:\n",
    "    def __init__(self,card_number,cvv):\n",
    "        self.__card_number=card_number\n",
    "        self.__cvv=cvv\n",
    "    def get_card(self):\n",
    "        return self.__card_number\n",
    "    def get_cvv(self):\n",
    "        return self.__cvv\n",
    "\n",
    "    "
   ]
  },
  {
   "cell_type": "code",
   "execution_count": 76,
   "metadata": {},
   "outputs": [
    {
     "name": "stdout",
     "output_type": "stream",
     "text": [
      "123456789\n",
      "254\n"
     ]
    }
   ],
   "source": [
    "payment=Payment(123456789,254)\n",
    "print(payment.get_card())\n",
    "print(payment.get_cvv())"
   ]
  },
  {
   "cell_type": "code",
   "execution_count": 81,
   "metadata": {},
   "outputs": [
    {
     "name": "stdout",
     "output_type": "stream",
     "text": [
      "quality:1080hd,length: 52 minutes\n",
      "duration= 36\n",
      "duration= 32\n"
     ]
    },
    {
     "data": {
      "text/plain": [
       "'duration= 32'"
      ]
     },
     "execution_count": 81,
     "metadata": {},
     "output_type": "execute_result"
    }
   ],
   "source": [
    "from abc import ABC, abstractmethod\n",
    "class CourseContent(ABC):\n",
    "\n",
    "    @abstractmethod\n",
    "    def get_details():\n",
    "        pass\n",
    "    \n",
    "    @abstractmethod\n",
    "    def get_duration():\n",
    "        pass\n",
    "class VideoCourse(CourseContent):\n",
    "    def __init__(self,video_quality,video_length,duration):\n",
    "        self.video_quality=video_quality\n",
    "        self.video_length=video_length\n",
    "        self.duration=duration\n",
    "    def get_details(self):\n",
    "        return f'quality:{self.video_quality},length: {self.video_length} minutes'\n",
    "    def get_duration(self):\n",
    "        return f\"duration= {self.duration}\"\n",
    "class Ebook(CourseContent):\n",
    "    def __init__(self,author,page_count,duration):\n",
    "        self.author=author\n",
    "        self.page_count=page_count\n",
    "        self.duration=duration\n",
    "    def get_details(self):\n",
    "        return f'author:{self.author},pages: {self.page_count} minutes'\n",
    "    def get_duration(self):\n",
    "        return f\"duration= {self.duration}\"\n",
    "x= VideoCourse('1080hd',52,36)\n",
    "y=Ebook('akshay',258,32)\n",
    "print(x.get_details())\n",
    "print(x.get_duration())\n",
    "print(y.get_duration())\n",
    "y.get_duration()\n",
    "\n"
   ]
  },
  {
   "cell_type": "code",
   "execution_count": 3,
   "metadata": {},
   "outputs": [
    {
     "name": "stdout",
     "output_type": "stream",
     "text": [
      "name:laptop,price:75000:2\n"
     ]
    }
   ],
   "source": [
    "class CartItem:\n",
    "    def __init__(self,name,price,quantity):\n",
    "        self.name=name\n",
    "        self.price=price\n",
    "        self.quantity=quantity\n",
    "    def __str__(self):\n",
    "        return f'name:{self.name},price:{self.price}:{self.quantity}'\n",
    "    def __add__(self):\n",
    "        \n",
    "x=CartItem('laptop',75000,2)\n",
    "print(x)\n"
   ]
  },
  {
   "cell_type": "code",
   "execution_count": 12,
   "metadata": {},
   "outputs": [
    {
     "name": "stdout",
     "output_type": "stream",
     "text": [
      "amount:5000\n",
      "validity:30\n",
      "amount:10000\n",
      "validity:365\n"
     ]
    }
   ],
   "source": [
    "from abc import ABC, abstractmethod\n",
    "class SubscriptionPlan:\n",
    "    @abstractmethod\n",
    "    def get_price(self):\n",
    "        pass\n",
    "    @abstractmethod\n",
    "    def get_duration(self):\n",
    "        pass\n",
    "class MonthlyPlan(SubscriptionPlan):\n",
    "    def __init__(self,amount,validity):\n",
    "        self.amount=amount\n",
    "        self.validity=validity\n",
    "    def get_price(self):\n",
    "        return f'amount:{self.amount}'\n",
    "    def get_duration(self):\n",
    "        return f'validity:{self.validity}'\n",
    "class YearlyPlan(SubscriptionPlan):\n",
    "    def __init__(self,amount,validity):\n",
    "        self.amount=amount\n",
    "        self.validity=validity\n",
    "    def get_price(self):\n",
    "        return f'amount:{self.amount}'\n",
    "    def get_duration(self):\n",
    "        return f'validity:{self.validity}'\n",
    "x= MonthlyPlan(5000,30)\n",
    "y= YearlyPlan(10000,365)\n",
    "print(x.get_price())\n",
    "\n",
    "print(x.get_duration())\n",
    "print(y.get_price())\n",
    "print(y.get_duration())\n",
    "\n",
    "\n",
    "        \n",
    "    \n",
    "        "
   ]
  },
  {
   "cell_type": "code",
   "execution_count": 20,
   "metadata": {},
   "outputs": [
    {
     "name": "stdout",
     "output_type": "stream",
     "text": [
      "<__main__.Subscription object at 0x00000222DF38AD10>\n"
     ]
    }
   ],
   "source": [
    "from abc import ABC, abstractmethod\n",
    "class Subscription:\n",
    "    def __init__(self,plan,price):\n",
    "        self._plan=plan\n",
    "        self._price=price\n",
    "    @property\n",
    "    def plan(self):\n",
    "        return self._plan\n",
    "    @property\n",
    "    def price(self):\n",
    "        return self._price\n",
    "    @plan.setter\n",
    "    def set(self,value):\n",
    "        self._plan=value\n",
    "        if value == Monthly:\n",
    "            return f'price: 500,plan: monthly'\n",
    "        elif value == yearly:\n",
    "            return f'price:5000,plan:yearly'\n",
    "        else:\n",
    "            pass\n",
    "x= Subscription('Monthly' ,500)\n",
    "print(x)\n",
    "        \n",
    "\n",
    "\n",
    "\n",
    "    \n"
   ]
  },
  {
   "cell_type": "code",
   "execution_count": 23,
   "metadata": {},
   "outputs": [],
   "source": [
    "class Product:\n",
    "    def __init__(self,name,price,discount):\n",
    "        self._name=name \n",
    "        self._price=price\n",
    "        self._discount=discount\n",
    "    @property\n",
    "    def get_name(self):\n",
    "        return self._name\n",
    "    @property\n",
    "    def get_price(self):\n",
    "        return self._price\n",
    "    @property\n",
    "    def get_discount(self):\n",
    "        return self._discount\n",
    "    \n",
    "\n"
   ]
  },
  {
   "cell_type": "code",
   "execution_count": null,
   "metadata": {},
   "outputs": [],
   "source": [
    "def fibonacci_series(n):\n",
    "    for i in n:\n",
    "        \n",
    "        yield i\n",
    "    \n"
   ]
  },
  {
   "cell_type": "code",
   "execution_count": null,
   "metadata": {},
   "outputs": [],
   "source": [
    "Creating Iterators\n",
    "Custom Iterators\n",
    "Implement an iterator class CourseIterator that takes a list of courses and iterates over them one by one.\n",
    "Generators and Using yield"
   ]
  }
 ],
 "metadata": {
  "kernelspec": {
   "display_name": "Python 3",
   "language": "python",
   "name": "python3"
  },
  "language_info": {
   "codemirror_mode": {
    "name": "ipython",
    "version": 3
   },
   "file_extension": ".py",
   "mimetype": "text/x-python",
   "name": "python",
   "nbconvert_exporter": "python",
   "pygments_lexer": "ipython3",
   "version": "3.11.9"
  }
 },
 "nbformat": 4,
 "nbformat_minor": 2
}
